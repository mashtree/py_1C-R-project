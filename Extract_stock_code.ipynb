{
 "cells": [
  {
   "cell_type": "code",
   "execution_count": 6,
   "metadata": {},
   "outputs": [],
   "source": [
    "import json\n",
    "from typing import DefaultDict\n",
    "import copy\n",
    "import pandas as pd\n",
    "from pandas import DataFrame"
   ]
  },
  {
   "cell_type": "code",
   "execution_count": 7,
   "metadata": {},
   "outputs": [],
   "source": [
    "stock_table = pd.read_excel('C:/Users/LENOVO/Documents/Bootcamp/Shift Academy/Data Wrangling/Tasks/10. Scrap Stockbit/StockList.xlsx')\n",
    "excluded_word = pd.read_excel('C:/Users/LENOVO/Documents/Bootcamp/Shift Academy/Data Wrangling/Tasks/10. Scrap Stockbit/excluded_word.xlsx')"
   ]
  },
  {
   "cell_type": "code",
   "execution_count": 8,
   "metadata": {},
   "outputs": [],
   "source": [
    "with open('C:/Users/LENOVO/Documents/Bootcamp/Shift Academy/Data Wrangling/Tasks/09. Scrap stock mention/result.json', 'rb') as fp:\n",
    "    data = json.load(fp)"
   ]
  },
  {
   "cell_type": "code",
   "execution_count": 9,
   "metadata": {},
   "outputs": [],
   "source": [
    "counter = DefaultDict(int)\n",
    "bydate = DefaultDict(str)\n",
    "buffer_date = ''"
   ]
  },
  {
   "cell_type": "code",
   "execution_count": 10,
   "metadata": {},
   "outputs": [],
   "source": [
    "for chats in data['messages'] :\n",
    "    try :\n",
    "        if chats['text'] != '':\n",
    "            tanggal = chats[\"date\"].split(\"T\")[0]\n",
    "            pengirim = chats[\"from\"]\n",
    "            teks = chats[\"text\"].replace(\"\\n\",\" \").replace(\",\", \" \").replace(\".\",\" \").lower()\n",
    "            teks_perkata = teks.split(\" \")\n",
    "            kode_saham = []\n",
    "            if tanggal != buffer_date :\n",
    "                counter = DefaultDict(int)\n",
    "            else :\n",
    "                pass\n",
    "            cek_double = []\n",
    "            for x in teks_perkata :\n",
    "                if x not in cek_double :\n",
    "                    if x in stock_table.Kode.values :\n",
    "                        if x not in excluded_word.values :\n",
    "                            kode_saham.append(x)\n",
    "                            cek_double.append(x)\n",
    "                            counter[x]+=1\n",
    "                            bydate[tanggal]=copy.copy(counter)\n",
    "                        else :\n",
    "                            continue\n",
    "                    else :\n",
    "                        continue\n",
    "                else :\n",
    "                    continue\n",
    "            buffer_date = tanggal\n",
    "#             print(f'{tanggal} | {pengirim} : {teks} - {kode_saham}')\n",
    "        else :\n",
    "            continue\n",
    "    except :\n",
    "        continue"
   ]
  },
  {
   "cell_type": "code",
   "execution_count": 14,
   "metadata": {},
   "outputs": [
    {
     "name": "stdout",
     "output_type": "stream",
     "text": [
      "Masukkan kode saham : lppf\n",
      "lppf\n",
      "           date mentions\n",
      "0    2019-10-18        0\n",
      "1    2019-10-19        0\n",
      "2    2019-10-20        0\n",
      "3    2019-10-21        0\n",
      "4    2019-10-22        0\n",
      "..          ...      ...\n",
      "527  2021-04-07        2\n",
      "528  2021-04-08        2\n",
      "529  2021-04-09        0\n",
      "530  2021-04-10        1\n",
      "531  2021-04-11        0\n",
      "\n",
      "[532 rows x 2 columns]\n"
     ]
    }
   ],
   "source": [
    "stockcode = input('Masukkan kode saham : ')\n",
    "mention_counter = [bydate[x][stockcode] for x in bydate]\n",
    "mention_date = [x for x in bydate]\n",
    "print(stockcode)\n",
    "\n",
    "df = DataFrame([mention_date,mention_counter]).transpose()\n",
    "df.columns = ('date','mentions')\n",
    "print(df)"
   ]
  }
 ],
 "metadata": {
  "kernelspec": {
   "display_name": "Python [conda env:anaconda3]",
   "language": "python",
   "name": "conda-env-anaconda3-py"
  },
  "language_info": {
   "codemirror_mode": {
    "name": "ipython",
    "version": 3
   },
   "file_extension": ".py",
   "mimetype": "text/x-python",
   "name": "python",
   "nbconvert_exporter": "python",
   "pygments_lexer": "ipython3",
   "version": "3.8.5"
  }
 },
 "nbformat": 4,
 "nbformat_minor": 2
}
