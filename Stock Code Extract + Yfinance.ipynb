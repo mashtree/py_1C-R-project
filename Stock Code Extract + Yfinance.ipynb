{
 "cells": [
  {
   "cell_type": "code",
   "execution_count": 9,
   "metadata": {},
   "outputs": [],
   "source": [
    "# !pip install openpyxl\n",
    "import json\n",
    "from typing import DefaultDict\n",
    "import copy\n",
    "import pandas as pd\n",
    "from pandas import DataFrame\n",
    "import yfinance as yf\n",
    "import matplotlib.pyplot as plt\n",
    "import datetime"
   ]
  },
  {
   "cell_type": "code",
   "execution_count": 10,
   "metadata": {},
   "outputs": [],
   "source": [
    "#Disesuaikan dengan directory data Stocklist.xlsx, excluded_word.xlsx, dan result.json\n",
    "stock_table = pd.read_excel(r'files\\StockList.xlsx')\n",
    "excluded_word = pd.read_excel(r'files\\excluded_word.xlsx')"
   ]
  },
  {
   "cell_type": "code",
   "execution_count": 11,
   "metadata": {},
   "outputs": [],
   "source": [
    "with open('result.json', 'rb') as fp:\n",
    "    data = json.load(fp)"
   ]
  },
  {
   "cell_type": "code",
   "execution_count": 12,
   "metadata": {},
   "outputs": [],
   "source": [
    "counter = DefaultDict(int)\n",
    "bydate = DefaultDict(str)\n",
    "buffer_date = ''"
   ]
  },
  {
   "cell_type": "code",
   "execution_count": 13,
   "metadata": {},
   "outputs": [],
   "source": [
    "for chats in data['messages'] :\n",
    "    try :\n",
    "        if chats['text'] != '':\n",
    "            tanggal = chats[\"date\"].split(\"T\")[0]\n",
    "            pengirim = chats[\"from\"]\n",
    "            teks = chats[\"text\"].replace(\"\\n\",\" \").replace(\",\", \" \").replace(\".\",\" \").lower()\n",
    "            teks_perkata = teks.split(\" \")\n",
    "            kode_saham = []\n",
    "            if tanggal != buffer_date :\n",
    "                counter = DefaultDict(int)\n",
    "            else :\n",
    "                pass\n",
    "            cek_double = []\n",
    "            for x in teks_perkata :\n",
    "                if x not in cek_double :\n",
    "                    if x in stock_table.Kode.values :\n",
    "                        if x not in excluded_word.values :\n",
    "                            kode_saham.append(x)\n",
    "                            cek_double.append(x)\n",
    "                            counter[x]+=1\n",
    "                            bydate[tanggal]=copy.copy(counter)\n",
    "                        else :\n",
    "                            continue\n",
    "                    else :\n",
    "                        continue\n",
    "                else :\n",
    "                    continue\n",
    "            buffer_date = tanggal\n",
    "#             print(f'{tanggal} | {pengirim} : {teks} - {kode_saham}')\n",
    "        else :\n",
    "            continue\n",
    "    except :\n",
    "        continue"
   ]
  },
  {
   "cell_type": "code",
   "execution_count": 31,
   "metadata": {},
   "outputs": [
    {
     "name": "stdout",
     "output_type": "stream",
     "text": [
      "Masukkan kode saham : antm\n",
      "Masukkan tanggal awal (Format: yyyy-mm-dd) : 2021-01-01\n",
      "Masukkan tanggal akhir (Format: yyyy-mm-dd) : 2021-04-11\n",
      "\n"
     ]
    },
    {
     "data": {
      "text/html": [
       "<div>\n",
       "<style scoped>\n",
       "    .dataframe tbody tr th:only-of-type {\n",
       "        vertical-align: middle;\n",
       "    }\n",
       "\n",
       "    .dataframe tbody tr th {\n",
       "        vertical-align: top;\n",
       "    }\n",
       "\n",
       "    .dataframe thead th {\n",
       "        text-align: right;\n",
       "    }\n",
       "</style>\n",
       "<table border=\"1\" class=\"dataframe\">\n",
       "  <thead>\n",
       "    <tr style=\"text-align: right;\">\n",
       "      <th></th>\n",
       "      <th>date</th>\n",
       "      <th>mentions</th>\n",
       "    </tr>\n",
       "  </thead>\n",
       "  <tbody>\n",
       "    <tr>\n",
       "      <th>527</th>\n",
       "      <td>2021-04-07</td>\n",
       "      <td>10</td>\n",
       "    </tr>\n",
       "    <tr>\n",
       "      <th>528</th>\n",
       "      <td>2021-04-08</td>\n",
       "      <td>32</td>\n",
       "    </tr>\n",
       "    <tr>\n",
       "      <th>529</th>\n",
       "      <td>2021-04-09</td>\n",
       "      <td>9</td>\n",
       "    </tr>\n",
       "    <tr>\n",
       "      <th>530</th>\n",
       "      <td>2021-04-10</td>\n",
       "      <td>1</td>\n",
       "    </tr>\n",
       "    <tr>\n",
       "      <th>531</th>\n",
       "      <td>2021-04-11</td>\n",
       "      <td>0</td>\n",
       "    </tr>\n",
       "  </tbody>\n",
       "</table>\n",
       "</div>"
      ],
      "text/plain": [
       "           date mentions\n",
       "527  2021-04-07       10\n",
       "528  2021-04-08       32\n",
       "529  2021-04-09        9\n",
       "530  2021-04-10        1\n",
       "531  2021-04-11        0"
      ]
     },
     "execution_count": 31,
     "metadata": {},
     "output_type": "execute_result"
    }
   ],
   "source": [
    "#Input stockcode\n",
    "stockcode = input('Masukkan kode saham : ')\n",
    "mention_counter = [bydate[x][stockcode] for x in bydate]\n",
    "mention_date = [x for x in bydate]\n",
    "\n",
    "df = DataFrame([mention_date,mention_counter]).transpose()\n",
    "df.columns = ('date','mentions')\n",
    "\n",
    "#Input tanggal\n",
    "start_date = input('Masukkan tanggal awal (Format: yyyy-mm-dd) : ')\n",
    "finish_date = input('Masukkan tanggal akhir (Format: yyyy-mm-dd) : ')\n",
    "\n",
    "print(\"\")\n",
    "df.tail()"
   ]
  },
  {
   "cell_type": "code",
   "execution_count": 32,
   "metadata": {},
   "outputs": [
    {
     "data": {
      "text/html": [
       "<div>\n",
       "<style scoped>\n",
       "    .dataframe tbody tr th:only-of-type {\n",
       "        vertical-align: middle;\n",
       "    }\n",
       "\n",
       "    .dataframe tbody tr th {\n",
       "        vertical-align: top;\n",
       "    }\n",
       "\n",
       "    .dataframe thead th {\n",
       "        text-align: right;\n",
       "    }\n",
       "</style>\n",
       "<table border=\"1\" class=\"dataframe\">\n",
       "  <thead>\n",
       "    <tr style=\"text-align: right;\">\n",
       "      <th></th>\n",
       "      <th>date</th>\n",
       "      <th>mentions</th>\n",
       "    </tr>\n",
       "  </thead>\n",
       "  <tbody>\n",
       "    <tr>\n",
       "      <th>431</th>\n",
       "      <td>2021-01-01</td>\n",
       "      <td>0</td>\n",
       "    </tr>\n",
       "    <tr>\n",
       "      <th>432</th>\n",
       "      <td>2021-01-02</td>\n",
       "      <td>1</td>\n",
       "    </tr>\n",
       "    <tr>\n",
       "      <th>433</th>\n",
       "      <td>2021-01-03</td>\n",
       "      <td>3</td>\n",
       "    </tr>\n",
       "    <tr>\n",
       "      <th>434</th>\n",
       "      <td>2021-01-04</td>\n",
       "      <td>68</td>\n",
       "    </tr>\n",
       "    <tr>\n",
       "      <th>435</th>\n",
       "      <td>2021-01-05</td>\n",
       "      <td>50</td>\n",
       "    </tr>\n",
       "    <tr>\n",
       "      <th>...</th>\n",
       "      <td>...</td>\n",
       "      <td>...</td>\n",
       "    </tr>\n",
       "    <tr>\n",
       "      <th>527</th>\n",
       "      <td>2021-04-07</td>\n",
       "      <td>10</td>\n",
       "    </tr>\n",
       "    <tr>\n",
       "      <th>528</th>\n",
       "      <td>2021-04-08</td>\n",
       "      <td>32</td>\n",
       "    </tr>\n",
       "    <tr>\n",
       "      <th>529</th>\n",
       "      <td>2021-04-09</td>\n",
       "      <td>9</td>\n",
       "    </tr>\n",
       "    <tr>\n",
       "      <th>530</th>\n",
       "      <td>2021-04-10</td>\n",
       "      <td>1</td>\n",
       "    </tr>\n",
       "    <tr>\n",
       "      <th>531</th>\n",
       "      <td>2021-04-11</td>\n",
       "      <td>0</td>\n",
       "    </tr>\n",
       "  </tbody>\n",
       "</table>\n",
       "<p>101 rows × 2 columns</p>\n",
       "</div>"
      ],
      "text/plain": [
       "           date mentions\n",
       "431  2021-01-01        0\n",
       "432  2021-01-02        1\n",
       "433  2021-01-03        3\n",
       "434  2021-01-04       68\n",
       "435  2021-01-05       50\n",
       "..          ...      ...\n",
       "527  2021-04-07       10\n",
       "528  2021-04-08       32\n",
       "529  2021-04-09        9\n",
       "530  2021-04-10        1\n",
       "531  2021-04-11        0\n",
       "\n",
       "[101 rows x 2 columns]"
      ]
     },
     "execution_count": 32,
     "metadata": {},
     "output_type": "execute_result"
    }
   ],
   "source": [
    "dfa = df[(df['date'] >= start_date) & (df['date'] <= finish_date)]\n",
    "dfa"
   ]
  },
  {
   "cell_type": "code",
   "execution_count": 24,
   "metadata": {},
   "outputs": [
    {
     "name": "stdout",
     "output_type": "stream",
     "text": [
      "[*********************100%***********************]  1 of 1 completed\n"
     ]
    }
   ],
   "source": [
    "#Cek ekstensi .JK di kode saham\n",
    "check_stockcode = stockcode.find(\".JK\")\n",
    "\n",
    "if check_stockcode == -1:\n",
    "    stockcode = (stockcode+\".JK\")\n",
    "else:\n",
    "    stockcode\n",
    "\n",
    "#Input stockcode ke Yahoo Finance    \n",
    "stockinfo = yf.download(stockcode, start=\"{}\".format(start_date), end=\"{}\".format(finish_date))\n",
    "stock_price = stockinfo['Adj Close']\n",
    "\n",
    "#Mengambil Nama Perusahaan\n",
    "company_info = yf.Ticker(\"{}\".format(stockcode))\n",
    "company_name = company_info.info[\"longName\"]\n"
   ]
  },
  {
   "cell_type": "code",
   "execution_count": 25,
   "metadata": {},
   "outputs": [
    {
     "data": {
      "text/plain": [
       "Date\n",
       "2021-04-05    2230.0\n",
       "2021-04-06    2260.0\n",
       "2021-04-07    2240.0\n",
       "2021-04-08    2440.0\n",
       "2021-04-09    2380.0\n",
       "Name: Adj Close, dtype: float64"
      ]
     },
     "execution_count": 25,
     "metadata": {},
     "output_type": "execute_result"
    }
   ],
   "source": [
    "stock_price.tail()"
   ]
  },
  {
   "cell_type": "code",
   "execution_count": 26,
   "metadata": {},
   "outputs": [
    {
     "data": {
      "text/plain": [
       "(67, 2)"
      ]
     },
     "execution_count": 26,
     "metadata": {},
     "output_type": "execute_result"
    }
   ],
   "source": [
    "dfprice = DataFrame(stock_price)\n",
    "dfprice['date'] = dfprice.index\n",
    "dfprice.shape"
   ]
  },
  {
   "cell_type": "code",
   "execution_count": 27,
   "metadata": {},
   "outputs": [],
   "source": [
    "dfinal = pd.concat([dfa, dfprice], axis=1)"
   ]
  },
  {
   "cell_type": "code",
   "execution_count": 28,
   "metadata": {},
   "outputs": [
    {
     "data": {
      "text/plain": [
       "(67, 2)"
      ]
     },
     "execution_count": 28,
     "metadata": {},
     "output_type": "execute_result"
    }
   ],
   "source": [
    "dfa_date = dfa['date'].tolist()\n",
    "# dfa_date\n",
    "dfp1 = dfprice[dfprice['date'].isin(dfa_date)]\n",
    "dfp1['date']=dfp1['date'].astype(str)\n",
    "dfp1['date'].tolist()\n",
    "dfa1 = dfa[dfa['date'].isin(dfp1['date'].tolist())]\n",
    "dfa1.shape\n",
    "# dfp1['date'].tolist()"
   ]
  },
  {
   "cell_type": "code",
   "execution_count": 29,
   "metadata": {},
   "outputs": [
    {
     "name": "stderr",
     "output_type": "stream",
     "text": [
      "<ipython-input-29-117e2fd74334>:1: SettingWithCopyWarning: \n",
      "A value is trying to be set on a copy of a slice from a DataFrame.\n",
      "Try using .loc[row_indexer,col_indexer] = value instead\n",
      "\n",
      "See the caveats in the documentation: https://pandas.pydata.org/pandas-docs/stable/user_guide/indexing.html#returning-a-view-versus-a-copy\n",
      "  dfa1['price'] = dfp1['Adj Close'].tolist()\n",
      "<ipython-input-29-117e2fd74334>:2: SettingWithCopyWarning: \n",
      "A value is trying to be set on a copy of a slice from a DataFrame.\n",
      "Try using .loc[row_indexer,col_indexer] = value instead\n",
      "\n",
      "See the caveats in the documentation: https://pandas.pydata.org/pandas-docs/stable/user_guide/indexing.html#returning-a-view-versus-a-copy\n",
      "  dfa1['mentions'] = (dfa1['mentions']/dfa1['mentions'].max())*100\n",
      "<ipython-input-29-117e2fd74334>:3: SettingWithCopyWarning: \n",
      "A value is trying to be set on a copy of a slice from a DataFrame.\n",
      "Try using .loc[row_indexer,col_indexer] = value instead\n",
      "\n",
      "See the caveats in the documentation: https://pandas.pydata.org/pandas-docs/stable/user_guide/indexing.html#returning-a-view-versus-a-copy\n",
      "  dfa1['price'] = (dfa1['price']/dfa1['price'].max())*100\n"
     ]
    },
    {
     "data": {
      "text/html": [
       "<div>\n",
       "<style scoped>\n",
       "    .dataframe tbody tr th:only-of-type {\n",
       "        vertical-align: middle;\n",
       "    }\n",
       "\n",
       "    .dataframe tbody tr th {\n",
       "        vertical-align: top;\n",
       "    }\n",
       "\n",
       "    .dataframe thead th {\n",
       "        text-align: right;\n",
       "    }\n",
       "</style>\n",
       "<table border=\"1\" class=\"dataframe\">\n",
       "  <thead>\n",
       "    <tr style=\"text-align: right;\">\n",
       "      <th></th>\n",
       "      <th>date</th>\n",
       "      <th>mentions</th>\n",
       "      <th>price</th>\n",
       "    </tr>\n",
       "  </thead>\n",
       "  <tbody>\n",
       "    <tr>\n",
       "      <th>434</th>\n",
       "      <td>2021-01-04</td>\n",
       "      <td>1.37931</td>\n",
       "      <td>62.599469</td>\n",
       "    </tr>\n",
       "    <tr>\n",
       "      <th>435</th>\n",
       "      <td>2021-01-05</td>\n",
       "      <td>3.448276</td>\n",
       "      <td>62.334218</td>\n",
       "    </tr>\n",
       "    <tr>\n",
       "      <th>436</th>\n",
       "      <td>2021-01-06</td>\n",
       "      <td>17.931034</td>\n",
       "      <td>66.578249</td>\n",
       "    </tr>\n",
       "    <tr>\n",
       "      <th>437</th>\n",
       "      <td>2021-01-07</td>\n",
       "      <td>30.344828</td>\n",
       "      <td>71.883289</td>\n",
       "    </tr>\n",
       "    <tr>\n",
       "      <th>438</th>\n",
       "      <td>2021-01-08</td>\n",
       "      <td>15.172414</td>\n",
       "      <td>75.862069</td>\n",
       "    </tr>\n",
       "    <tr>\n",
       "      <th>...</th>\n",
       "      <td>...</td>\n",
       "      <td>...</td>\n",
       "      <td>...</td>\n",
       "    </tr>\n",
       "    <tr>\n",
       "      <th>525</th>\n",
       "      <td>2021-04-05</td>\n",
       "      <td>2.758621</td>\n",
       "      <td>59.151194</td>\n",
       "    </tr>\n",
       "    <tr>\n",
       "      <th>526</th>\n",
       "      <td>2021-04-06</td>\n",
       "      <td>0.0</td>\n",
       "      <td>59.946950</td>\n",
       "    </tr>\n",
       "    <tr>\n",
       "      <th>527</th>\n",
       "      <td>2021-04-07</td>\n",
       "      <td>0.0</td>\n",
       "      <td>59.416446</td>\n",
       "    </tr>\n",
       "    <tr>\n",
       "      <th>528</th>\n",
       "      <td>2021-04-08</td>\n",
       "      <td>21.37931</td>\n",
       "      <td>64.721485</td>\n",
       "    </tr>\n",
       "    <tr>\n",
       "      <th>529</th>\n",
       "      <td>2021-04-09</td>\n",
       "      <td>4.827586</td>\n",
       "      <td>63.129973</td>\n",
       "    </tr>\n",
       "  </tbody>\n",
       "</table>\n",
       "<p>67 rows × 3 columns</p>\n",
       "</div>"
      ],
      "text/plain": [
       "           date   mentions      price\n",
       "434  2021-01-04    1.37931  62.599469\n",
       "435  2021-01-05   3.448276  62.334218\n",
       "436  2021-01-06  17.931034  66.578249\n",
       "437  2021-01-07  30.344828  71.883289\n",
       "438  2021-01-08  15.172414  75.862069\n",
       "..          ...        ...        ...\n",
       "525  2021-04-05   2.758621  59.151194\n",
       "526  2021-04-06        0.0  59.946950\n",
       "527  2021-04-07        0.0  59.416446\n",
       "528  2021-04-08   21.37931  64.721485\n",
       "529  2021-04-09   4.827586  63.129973\n",
       "\n",
       "[67 rows x 3 columns]"
      ]
     },
     "execution_count": 29,
     "metadata": {},
     "output_type": "execute_result"
    }
   ],
   "source": [
    "dfa1['price'] = dfp1['Adj Close'].tolist()\n",
    "dfa1['mentions'] = (dfa1['mentions']/dfa1['mentions'].max())*100\n",
    "dfa1['price'] = (dfa1['price']/dfa1['price'].max())*100\n",
    "dfa1"
   ]
  },
  {
   "cell_type": "code",
   "execution_count": 30,
   "metadata": {},
   "outputs": [
    {
     "data": {
      "image/png": "[encoded data removed]",
      "text/plain": [
       "<Figure size 1080x432 with 1 Axes>"
      ]
     },
     "metadata": {
      "needs_background": "light"
     },
     "output_type": "display_data"
    }
   ],
   "source": [
    "#Menampilkan Grafik Pergerakan Harga Saham\n",
    "plt.figure(figsize=(15,6))\n",
    "plt.title(\"Pergerakan Harga Saham \"+company_name)\n",
    "# plt.plot(stock_price)\n",
    "plt.plot( 'date', 'mentions', data=dfa1, marker='o', markerfacecolor='blue', markersize=12, color='skyblue', linewidth=4)\n",
    "plt.plot( 'date', 'price', data=dfa1, marker='', color='olive', linewidth=2)\n",
    "# show legend\n",
    "plt.legend()\n",
    "\n",
    "# show graph\n",
    "plt.show()\n",
    "\n",
    "# plt.ylabel(\"Price (IDR)\")\n",
    "# plt.xlabel(\"Date\")\n",
    "# plt.show()"
   ]
  },
  {
   "cell_type": "code",
   "execution_count": null,
   "metadata": {},
   "outputs": [],
   "source": []
  }
 ],
 "metadata": {
  "kernelspec": {
   "display_name": "Python 3",
   "language": "python",
   "name": "python3"
  },
  "language_info": {
   "codemirror_mode": {
    "name": "ipython",
    "version": 3
   },
   "file_extension": ".py",
   "mimetype": "text/x-python",
   "name": "python",
   "nbconvert_exporter": "python",
   "pygments_lexer": "ipython3",
   "version": "3.8.5"
  }
 },
 "nbformat": 4,
 "nbformat_minor": 5
}
